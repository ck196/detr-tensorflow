{
 "cells": [
  {
   "cell_type": "markdown",
   "metadata": {},
   "source": [
    "<img align=\"right\" src=\"../img/auvisus.svg\" width=\"100\" >\n"
   ]
  },
  {
   "cell_type": "markdown",
   "metadata": {},
   "source": [
    "# DEtection TRansformer Network"
   ]
  },
  {
   "cell_type": "markdown",
   "metadata": {},
   "source": [
    "---"
   ]
  },
  {
   "cell_type": "markdown",
   "metadata": {},
   "source": [
    "## 1. Import Modules"
   ]
  },
  {
   "cell_type": "code",
   "execution_count": null,
   "metadata": {},
   "outputs": [],
   "source": [
    "%load_ext autoreload\n",
    "%autoreload 2\n",
    "\n",
    "from detr_models.detr.model import DETR\n",
    "from detr_models.detr.train import get_image_information\n",
    "\n",
    "from detr_models.detr.data_feeder import DataFeeder\n",
    "from detr_models.detr.uuid_iterator import UUIDIterator\n",
    "from detr_models.detr.config import DefaultDETRConfig\n",
    "from detr_models.backbone.backbone import Backbone\n",
    "\n",
    "import tensorflow as tf\n",
    "\n",
    "import os"
   ]
  },
  {
   "cell_type": "markdown",
   "metadata": {},
   "source": [
    "---"
   ]
  },
  {
   "cell_type": "markdown",
   "metadata": {},
   "source": [
    "## 2. Initialize Model"
   ]
  },
  {
   "cell_type": "code",
   "execution_count": null,
   "metadata": {},
   "outputs": [],
   "source": [
    "# Specify storage path\n",
    "storage_path = input(prompt='Please specify the storage path:\\n')"
   ]
  },
  {
   "cell_type": "code",
   "execution_count": null,
   "metadata": {},
   "outputs": [],
   "source": [
    "# Additional Information used for initialization\n",
    "config = DefaultDETRConfig()\n",
    "\n",
    "input_shape, count_images = get_image_information(storage_path)\n",
    "\n",
    "backbone_config = {\n",
    "        \"input_shape\": input_shape,\n",
    "        \"include_top\": False,\n",
    "        \"weights\": \"imagenet\",\n",
    "    }\n",
    "\n",
    "# Init. model\n",
    "detr = DETR(\n",
    "        input_shape=input_shape,\n",
    "        num_queries=config.num_queries,\n",
    "        num_classes=config.num_classes,\n",
    "        num_heads=config.num_heads,\n",
    "        dim_transformer=config.dim_transformer,\n",
    "        dim_feedforward=config.dim_feedforward,\n",
    "        num_transformer_layer=config.num_transformer_layer,\n",
    "        backbone_name=config.backbone_name,\n",
    "        backbone_config=backbone_config,\n",
    "        train_backbone=False,\n",
    ")\n"
   ]
  },
  {
   "cell_type": "markdown",
   "metadata": {},
   "source": [
    "---"
   ]
  },
  {
   "cell_type": "markdown",
   "metadata": {},
   "source": [
    "## 3. Build Model"
   ]
  },
  {
   "cell_type": "code",
   "execution_count": null,
   "metadata": {
    "scrolled": true
   },
   "outputs": [],
   "source": [
    "# Build Model\n",
    "model = detr.build_model()\n",
    "model.summary()"
   ]
  },
  {
   "cell_type": "markdown",
   "metadata": {},
   "source": [
    "---"
   ]
  },
  {
   "cell_type": "markdown",
   "metadata": {},
   "source": [
    "## 4. Train Model"
   ]
  },
  {
   "cell_type": "markdown",
   "metadata": {},
   "source": [
    "### 4.1. Initialize Training Helper"
   ]
  },
  {
   "cell_type": "code",
   "execution_count": null,
   "metadata": {},
   "outputs": [],
   "source": [
    "# Init Feeder and Iterator\n",
    "uuid_iterator = UUIDIterator(\n",
    "    storage_path=storage_path,\n",
    "    batch_size=config.batch_size\n",
    ")\n",
    "\n",
    "data_feeder = DataFeeder(\n",
    "    storage_path=storage_path,\n",
    "    num_queries=config.num_queries,\n",
    "    num_classes=config.num_classes,\n",
    "    fm_shape=detr.fm_shape,\n",
    "    dim_transformer=config.dim_transformer,\n",
    "    batch_size=config.batch_size,\n",
    ")"
   ]
  },
  {
   "cell_type": "markdown",
   "metadata": {},
   "source": [
    "### 4.2. Specify Training Configuration"
   ]
  },
  {
   "cell_type": "code",
   "execution_count": null,
   "metadata": {},
   "outputs": [],
   "source": [
    "# Init Optimizer\n",
    "optimizer = tf.keras.optimizers.Adam(config.learning_rate)\n",
    "epochs = 30\n",
    "output_dir = \"./saved_model\"\n",
    "\n",
    "# Specify the path to any pre-trained model if you want to use one\n",
    "use_pretrained = False\n",
    "\n",
    "training_config = {\n",
    "        \"epochs\" : epochs,\n",
    "        \"optimizer\" : optimizer,\n",
    "        \"count_images\" : count_images,\n",
    "        \"use_pretrained\" : use_pretrained,\n",
    "        \"output_dir\" : output_dir,\n",
    "    }"
   ]
  },
  {
   "cell_type": "markdown",
   "metadata": {},
   "source": [
    "### 4.3. Start Training"
   ]
  },
  {
   "cell_type": "code",
   "execution_count": null,
   "metadata": {},
   "outputs": [],
   "source": [
    "detr.train(\n",
    "    training_config=training_config,\n",
    "    uuid_iterator=uuid_iterator,\n",
    "    data_feeder=data_feeder,\n",
    "    verbose=False,\n",
    ")"
   ]
  },
  {
   "cell_type": "markdown",
   "metadata": {},
   "source": [
    "---"
   ]
  },
  {
   "cell_type": "markdown",
   "metadata": {},
   "source": [
    "*This Notebook was created by: [auvisus GmbH](https://www.auvisus.com/)*"
   ]
  }
 ],
 "metadata": {
  "kernelspec": {
   "display_name": "python3_venv",
   "language": "python",
   "name": "python3_venv"
  },
  "language_info": {
   "codemirror_mode": {
    "name": "ipython",
    "version": 3
   },
   "file_extension": ".py",
   "mimetype": "text/x-python",
   "name": "python",
   "nbconvert_exporter": "python",
   "pygments_lexer": "ipython3",
   "version": "3.7.3"
  }
 },
 "nbformat": 4,
 "nbformat_minor": 4
}
